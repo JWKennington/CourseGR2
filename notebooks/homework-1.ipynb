{
 "cells": [
  {
   "cell_type": "markdown",
   "id": "1fb95b45",
   "metadata": {},
   "source": [
    "# Homework 1"
   ]
  },
  {
   "cell_type": "markdown",
   "id": "614d7eaa",
   "metadata": {
    "heading_collapsed": true
   },
   "source": [
    "## Imports"
   ]
  },
  {
   "cell_type": "code",
   "execution_count": 1,
   "id": "f26479c1",
   "metadata": {
    "ExecuteTime": {
     "end_time": "2022-02-18T23:39:43.459082Z",
     "start_time": "2022-02-18T23:39:43.448198Z"
    },
    "hidden": true
   },
   "outputs": [],
   "source": [
    "import nbtools\n",
    "nbtools.setup_nb()"
   ]
  },
  {
   "cell_type": "code",
   "execution_count": 2,
   "id": "4a2c8904",
   "metadata": {
    "ExecuteTime": {
     "end_time": "2022-02-18T23:39:44.936637Z",
     "start_time": "2022-02-18T23:39:43.567461Z"
    },
    "hidden": true
   },
   "outputs": [],
   "source": [
    "from astropy import units, constants\n",
    "import numpy\n",
    "from plotly import graph_objects as go\n",
    "\n",
    "# Homework code\n",
    "from gr2 import tov"
   ]
  },
  {
   "cell_type": "markdown",
   "id": "19ccc6b6",
   "metadata": {},
   "source": [
    "# Problem C"
   ]
  },
  {
   "cell_type": "markdown",
   "id": "98dbe6c9",
   "metadata": {},
   "source": [
    "Common scaling constant $\\rho_*$"
   ]
  },
  {
   "cell_type": "code",
   "execution_count": 3,
   "id": "5e2dfa42",
   "metadata": {
    "ExecuteTime": {
     "end_time": "2022-02-18T23:39:46.670503Z",
     "start_time": "2022-02-18T23:39:46.663361Z"
    }
   },
   "outputs": [
    {
     "data": {
      "text/latex": [
       "$75706.211 \\; \\mathrm{\\frac{1}{m\\,s^{2}}}$"
      ],
      "text/plain": [
       "<Quantity 75706.2105281 1 / (m s2)>"
      ]
     },
     "execution_count": 3,
     "metadata": {},
     "output_type": "execute_result"
    }
   ],
   "source": [
    "rho_star = constants.m_n * constants.c ** 2 / ((1.0 * units.fm).to(units.m) ** 3)\n",
    "rho_star / constants.M_sun"
   ]
  },
  {
   "cell_type": "markdown",
   "id": "e5068d28",
   "metadata": {},
   "source": [
    "## Problem C.1"
   ]
  },
  {
   "cell_type": "markdown",
   "id": "16678c53",
   "metadata": {},
   "source": [
    "### Establish EoS"
   ]
  },
  {
   "cell_type": "code",
   "execution_count": 4,
   "id": "2a0271a0",
   "metadata": {
    "ExecuteTime": {
     "end_time": "2022-02-18T23:39:47.881826Z",
     "start_time": "2022-02-18T23:39:47.879160Z"
    }
   },
   "outputs": [],
   "source": [
    "gamma = 2.0\n",
    "alpha = 0.5\n",
    "\n",
    "n = 1 / (gamma - 1)\n",
    "K_bar = 1.0 # used for simulation\n",
    "K = alpha / (rho_star ** (gamma - 1)) # used for scaling results"
   ]
  },
  {
   "cell_type": "code",
   "execution_count": 22,
   "id": "768acf4a",
   "metadata": {
    "ExecuteTime": {
     "end_time": "2022-02-18T23:50:18.230974Z",
     "start_time": "2022-02-18T23:50:18.227776Z"
    }
   },
   "outputs": [
    {
     "data": {
      "text/latex": [
       "$3.3214872 \\times 10^{-36} \\; \\mathrm{\\frac{s^{2}\\,m}{kg}}$"
      ],
      "text/plain": [
       "<Quantity 3.32148722e-36 m s2 / kg>"
      ]
     },
     "execution_count": 22,
     "metadata": {},
     "output_type": "execute_result"
    }
   ],
   "source": [
    "K"
   ]
  },
  {
   "cell_type": "markdown",
   "id": "34af57a9",
   "metadata": {
    "heading_collapsed": true
   },
   "source": [
    "### Compute TOV solutions for various rest densities"
   ]
  },
  {
   "cell_type": "markdown",
   "id": "bb385d60",
   "metadata": {
    "hidden": true
   },
   "source": [
    "Set densities"
   ]
  },
  {
   "cell_type": "code",
   "execution_count": 23,
   "id": "fcebdaa1",
   "metadata": {
    "ExecuteTime": {
     "end_time": "2022-02-18T23:50:23.605391Z",
     "start_time": "2022-02-18T23:50:23.603183Z"
    },
    "hidden": true
   },
   "outputs": [],
   "source": [
    "mid_cent_density = 0.5 * rho_star\n",
    "mid_cent_density_bar = (K ** n) * mid_cent_density"
   ]
  },
  {
   "cell_type": "code",
   "execution_count": 24,
   "id": "84926cfa",
   "metadata": {
    "ExecuteTime": {
     "end_time": "2022-02-18T23:50:45.191677Z",
     "start_time": "2022-02-18T23:50:45.188304Z"
    },
    "hidden": true
   },
   "outputs": [
    {
     "data": {
      "text/latex": [
       "$0.25 \\; \\mathrm{}$"
      ],
      "text/plain": [
       "<Quantity 0.25>"
      ]
     },
     "execution_count": 24,
     "metadata": {},
     "output_type": "execute_result"
    }
   ],
   "source": [
    "mid_cent_density_bar"
   ]
  },
  {
   "cell_type": "code",
   "execution_count": 25,
   "id": "359c5e99",
   "metadata": {
    "ExecuteTime": {
     "end_time": "2022-02-18T23:50:52.982751Z",
     "start_time": "2022-02-18T23:50:52.980374Z"
    },
    "hidden": true
   },
   "outputs": [],
   "source": [
    "densities_rest = numpy.arange(0.1, 1.5, 0.1)\n",
    "\n",
    "d_rad = 0.001\n",
    "rad_max = 2.0\n",
    "solver = tov.integrate_manual # method used by Prof. Radice in NR"
   ]
  },
  {
   "cell_type": "markdown",
   "id": "ba60d68e",
   "metadata": {
    "hidden": true
   },
   "source": [
    "Compute solutions"
   ]
  },
  {
   "cell_type": "code",
   "execution_count": 26,
   "id": "141087a1",
   "metadata": {
    "ExecuteTime": {
     "end_time": "2022-02-18T23:50:54.978647Z",
     "start_time": "2022-02-18T23:50:54.891890Z"
    },
    "hidden": true
   },
   "outputs": [],
   "source": [
    "seq = tov.SolutionSequence.from_densities(densities_rest=densities_rest, d_rad=d_rad, \n",
    "                                          poly_index=n, poly_gas_const=K_bar, \n",
    "                                          rad_max=rad_max, solver=solver)"
   ]
  },
  {
   "cell_type": "markdown",
   "id": "721429e0",
   "metadata": {},
   "source": [
    "### Compute TOV Solution for $\\rho_c=0.5 \\rho_*$"
   ]
  },
  {
   "cell_type": "code",
   "execution_count": 52,
   "id": "7fb9738a",
   "metadata": {
    "ExecuteTime": {
     "end_time": "2022-02-19T00:39:42.844901Z",
     "start_time": "2022-02-19T00:39:42.842628Z"
    }
   },
   "outputs": [],
   "source": [
    "cent_density = 0.5 * rho_star\n",
    "cent_density_bar = (K ** n) * mid_cent_density\n",
    "\n",
    "# mid_cent_density_rest = tov.polytropic_density_rest(tov.polytropic_pressure(mid_cent_density))"
   ]
  },
  {
   "cell_type": "code",
   "execution_count": 53,
   "id": "a3e60cbc",
   "metadata": {
    "ExecuteTime": {
     "end_time": "2022-02-19T00:39:53.567857Z",
     "start_time": "2022-02-19T00:39:53.565637Z"
    }
   },
   "outputs": [],
   "source": [
    "densities_rest = [cent_density_bar]\n",
    "\n",
    "d_rad = 0.001\n",
    "rad_max = 2.0\n",
    "solver = tov.integrate_manual # method used by Prof. Radice in NR"
   ]
  },
  {
   "cell_type": "code",
   "execution_count": 54,
   "id": "63463d7c",
   "metadata": {
    "ExecuteTime": {
     "end_time": "2022-02-19T00:40:04.788770Z",
     "start_time": "2022-02-19T00:40:04.778275Z"
    }
   },
   "outputs": [],
   "source": [
    "_seq = tov.SolutionSequence.from_densities(densities_rest=densities_rest, d_rad=d_rad, \n",
    "                                           poly_index=n, poly_gas_const=K_bar, \n",
    "                                           rad_max=rad_max, solver=solver)\n",
    "soln = _seq.solutions[0]"
   ]
  },
  {
   "cell_type": "code",
   "execution_count": 55,
   "id": "5203e975",
   "metadata": {
    "ExecuteTime": {
     "end_time": "2022-02-19T00:40:11.292936Z",
     "start_time": "2022-02-19T00:40:11.290002Z"
    }
   },
   "outputs": [
    {
     "data": {
      "text/plain": [
       "0.8106050288104911"
      ]
     },
     "execution_count": 55,
     "metadata": {},
     "output_type": "execute_result"
    }
   ],
   "source": [
    "soln.surface_radius"
   ]
  },
  {
   "cell_type": "code",
   "execution_count": null,
   "id": "9e8250ee",
   "metadata": {},
   "outputs": [],
   "source": [
    "constants.r"
   ]
  },
  {
   "cell_type": "code",
   "execution_count": null,
   "id": "c0ab2363",
   "metadata": {},
   "outputs": [],
   "source": [
    "soln.surface_radius * (8 / numpy.pi) * constants.c / 1000 / numpy.sqrt(constants.G)"
   ]
  },
  {
   "cell_type": "code",
   "execution_count": 56,
   "id": "b911e0c7",
   "metadata": {
    "ExecuteTime": {
     "end_time": "2022-02-19T00:40:57.917343Z",
     "start_time": "2022-02-19T00:40:57.913663Z"
    }
   },
   "outputs": [
    {
     "data": {
      "text/latex": [
       "$1.4773234 \\times 10^{-18} \\; \\mathrm{\\frac{s\\,m^{1/2}}{kg^{1/2}}}$"
      ],
      "text/plain": [
       "<Quantity 1.47732343e-18 m(1/2) s / kg(1/2)>"
      ]
     },
     "execution_count": 56,
     "metadata": {},
     "output_type": "execute_result"
    }
   ],
   "source": [
    "tov.scale_radius(soln.surface_radius, n, K)"
   ]
  },
  {
   "cell_type": "code",
   "execution_count": null,
   "id": "9b48bd5b",
   "metadata": {},
   "outputs": [],
   "source": []
  },
  {
   "cell_type": "markdown",
   "id": "7efc006e",
   "metadata": {},
   "source": [
    "### Visualize Results"
   ]
  },
  {
   "cell_type": "code",
   "execution_count": null,
   "id": "2b923a21",
   "metadata": {},
   "outputs": [],
   "source": []
  },
  {
   "cell_type": "code",
   "execution_count": 27,
   "id": "c9d4a1a3",
   "metadata": {
    "ExecuteTime": {
     "end_time": "2022-02-18T23:50:58.167051Z",
     "start_time": "2022-02-18T23:50:58.158167Z"
    }
   },
   "outputs": [
    {
     "data": {
      "application/vnd.plotly.v1+json": {
       "config": {
        "plotlyServerURL": "https://plot.ly"
       },
       "data": [
        {
         "type": "scatter",
         "x": [
          0.1,
          0.2,
          0.30000000000000004,
          0.4,
          0.5,
          0.6,
          0.7000000000000001,
          0.8,
          0.9,
          1,
          1.1,
          1.2000000000000002,
          1.3000000000000003,
          1.4000000000000001
         ],
         "y": [
          1.8193286905654193e-18,
          1.5663847101910347e-18,
          1.4017397136249753e-18,
          1.2894951661685822e-18,
          1.2057802403182893e-18,
          1.139074449736113e-18,
          1.0907404752076673e-18,
          1.050890050231245e-18,
          1.0180609938453472e-18,
          9.903493483304615e-19,
          9.688483711545339e-19,
          9.510499783600553e-19,
          9.336926671820998e-19,
          9.210687741271917e-19
         ]
        }
       ],
       "layout": {
        "height": 600,
        "template": {
         "data": {
          "bar": [
           {
            "error_x": {
             "color": "#2a3f5f"
            },
            "error_y": {
             "color": "#2a3f5f"
            },
            "marker": {
             "line": {
              "color": "#E5ECF6",
              "width": 0.5
             },
             "pattern": {
              "fillmode": "overlay",
              "size": 10,
              "solidity": 0.2
             }
            },
            "type": "bar"
           }
          ],
          "barpolar": [
           {
            "marker": {
             "line": {
              "color": "#E5ECF6",
              "width": 0.5
             },
             "pattern": {
              "fillmode": "overlay",
              "size": 10,
              "solidity": 0.2
             }
            },
            "type": "barpolar"
           }
          ],
          "carpet": [
           {
            "aaxis": {
             "endlinecolor": "#2a3f5f",
             "gridcolor": "white",
             "linecolor": "white",
             "minorgridcolor": "white",
             "startlinecolor": "#2a3f5f"
            },
            "baxis": {
             "endlinecolor": "#2a3f5f",
             "gridcolor": "white",
             "linecolor": "white",
             "minorgridcolor": "white",
             "startlinecolor": "#2a3f5f"
            },
            "type": "carpet"
           }
          ],
          "choropleth": [
           {
            "colorbar": {
             "outlinewidth": 0,
             "ticks": ""
            },
            "type": "choropleth"
           }
          ],
          "contour": [
           {
            "colorbar": {
             "outlinewidth": 0,
             "ticks": ""
            },
            "colorscale": [
             [
              0,
              "#0d0887"
             ],
             [
              0.1111111111111111,
              "#46039f"
             ],
             [
              0.2222222222222222,
              "#7201a8"
             ],
             [
              0.3333333333333333,
              "#9c179e"
             ],
             [
              0.4444444444444444,
              "#bd3786"
             ],
             [
              0.5555555555555556,
              "#d8576b"
             ],
             [
              0.6666666666666666,
              "#ed7953"
             ],
             [
              0.7777777777777778,
              "#fb9f3a"
             ],
             [
              0.8888888888888888,
              "#fdca26"
             ],
             [
              1,
              "#f0f921"
             ]
            ],
            "type": "contour"
           }
          ],
          "contourcarpet": [
           {
            "colorbar": {
             "outlinewidth": 0,
             "ticks": ""
            },
            "type": "contourcarpet"
           }
          ],
          "heatmap": [
           {
            "colorbar": {
             "outlinewidth": 0,
             "ticks": ""
            },
            "colorscale": [
             [
              0,
              "#0d0887"
             ],
             [
              0.1111111111111111,
              "#46039f"
             ],
             [
              0.2222222222222222,
              "#7201a8"
             ],
             [
              0.3333333333333333,
              "#9c179e"
             ],
             [
              0.4444444444444444,
              "#bd3786"
             ],
             [
              0.5555555555555556,
              "#d8576b"
             ],
             [
              0.6666666666666666,
              "#ed7953"
             ],
             [
              0.7777777777777778,
              "#fb9f3a"
             ],
             [
              0.8888888888888888,
              "#fdca26"
             ],
             [
              1,
              "#f0f921"
             ]
            ],
            "type": "heatmap"
           }
          ],
          "heatmapgl": [
           {
            "colorbar": {
             "outlinewidth": 0,
             "ticks": ""
            },
            "colorscale": [
             [
              0,
              "#0d0887"
             ],
             [
              0.1111111111111111,
              "#46039f"
             ],
             [
              0.2222222222222222,
              "#7201a8"
             ],
             [
              0.3333333333333333,
              "#9c179e"
             ],
             [
              0.4444444444444444,
              "#bd3786"
             ],
             [
              0.5555555555555556,
              "#d8576b"
             ],
             [
              0.6666666666666666,
              "#ed7953"
             ],
             [
              0.7777777777777778,
              "#fb9f3a"
             ],
             [
              0.8888888888888888,
              "#fdca26"
             ],
             [
              1,
              "#f0f921"
             ]
            ],
            "type": "heatmapgl"
           }
          ],
          "histogram": [
           {
            "marker": {
             "pattern": {
              "fillmode": "overlay",
              "size": 10,
              "solidity": 0.2
             }
            },
            "type": "histogram"
           }
          ],
          "histogram2d": [
           {
            "colorbar": {
             "outlinewidth": 0,
             "ticks": ""
            },
            "colorscale": [
             [
              0,
              "#0d0887"
             ],
             [
              0.1111111111111111,
              "#46039f"
             ],
             [
              0.2222222222222222,
              "#7201a8"
             ],
             [
              0.3333333333333333,
              "#9c179e"
             ],
             [
              0.4444444444444444,
              "#bd3786"
             ],
             [
              0.5555555555555556,
              "#d8576b"
             ],
             [
              0.6666666666666666,
              "#ed7953"
             ],
             [
              0.7777777777777778,
              "#fb9f3a"
             ],
             [
              0.8888888888888888,
              "#fdca26"
             ],
             [
              1,
              "#f0f921"
             ]
            ],
            "type": "histogram2d"
           }
          ],
          "histogram2dcontour": [
           {
            "colorbar": {
             "outlinewidth": 0,
             "ticks": ""
            },
            "colorscale": [
             [
              0,
              "#0d0887"
             ],
             [
              0.1111111111111111,
              "#46039f"
             ],
             [
              0.2222222222222222,
              "#7201a8"
             ],
             [
              0.3333333333333333,
              "#9c179e"
             ],
             [
              0.4444444444444444,
              "#bd3786"
             ],
             [
              0.5555555555555556,
              "#d8576b"
             ],
             [
              0.6666666666666666,
              "#ed7953"
             ],
             [
              0.7777777777777778,
              "#fb9f3a"
             ],
             [
              0.8888888888888888,
              "#fdca26"
             ],
             [
              1,
              "#f0f921"
             ]
            ],
            "type": "histogram2dcontour"
           }
          ],
          "mesh3d": [
           {
            "colorbar": {
             "outlinewidth": 0,
             "ticks": ""
            },
            "type": "mesh3d"
           }
          ],
          "parcoords": [
           {
            "line": {
             "colorbar": {
              "outlinewidth": 0,
              "ticks": ""
             }
            },
            "type": "parcoords"
           }
          ],
          "pie": [
           {
            "automargin": true,
            "type": "pie"
           }
          ],
          "scatter": [
           {
            "marker": {
             "colorbar": {
              "outlinewidth": 0,
              "ticks": ""
             }
            },
            "type": "scatter"
           }
          ],
          "scatter3d": [
           {
            "line": {
             "colorbar": {
              "outlinewidth": 0,
              "ticks": ""
             }
            },
            "marker": {
             "colorbar": {
              "outlinewidth": 0,
              "ticks": ""
             }
            },
            "type": "scatter3d"
           }
          ],
          "scattercarpet": [
           {
            "marker": {
             "colorbar": {
              "outlinewidth": 0,
              "ticks": ""
             }
            },
            "type": "scattercarpet"
           }
          ],
          "scattergeo": [
           {
            "marker": {
             "colorbar": {
              "outlinewidth": 0,
              "ticks": ""
             }
            },
            "type": "scattergeo"
           }
          ],
          "scattergl": [
           {
            "marker": {
             "colorbar": {
              "outlinewidth": 0,
              "ticks": ""
             }
            },
            "type": "scattergl"
           }
          ],
          "scattermapbox": [
           {
            "marker": {
             "colorbar": {
              "outlinewidth": 0,
              "ticks": ""
             }
            },
            "type": "scattermapbox"
           }
          ],
          "scatterpolar": [
           {
            "marker": {
             "colorbar": {
              "outlinewidth": 0,
              "ticks": ""
             }
            },
            "type": "scatterpolar"
           }
          ],
          "scatterpolargl": [
           {
            "marker": {
             "colorbar": {
              "outlinewidth": 0,
              "ticks": ""
             }
            },
            "type": "scatterpolargl"
           }
          ],
          "scatterternary": [
           {
            "marker": {
             "colorbar": {
              "outlinewidth": 0,
              "ticks": ""
             }
            },
            "type": "scatterternary"
           }
          ],
          "surface": [
           {
            "colorbar": {
             "outlinewidth": 0,
             "ticks": ""
            },
            "colorscale": [
             [
              0,
              "#0d0887"
             ],
             [
              0.1111111111111111,
              "#46039f"
             ],
             [
              0.2222222222222222,
              "#7201a8"
             ],
             [
              0.3333333333333333,
              "#9c179e"
             ],
             [
              0.4444444444444444,
              "#bd3786"
             ],
             [
              0.5555555555555556,
              "#d8576b"
             ],
             [
              0.6666666666666666,
              "#ed7953"
             ],
             [
              0.7777777777777778,
              "#fb9f3a"
             ],
             [
              0.8888888888888888,
              "#fdca26"
             ],
             [
              1,
              "#f0f921"
             ]
            ],
            "type": "surface"
           }
          ],
          "table": [
           {
            "cells": {
             "fill": {
              "color": "#EBF0F8"
             },
             "line": {
              "color": "white"
             }
            },
            "header": {
             "fill": {
              "color": "#C8D4E3"
             },
             "line": {
              "color": "white"
             }
            },
            "type": "table"
           }
          ]
         },
         "layout": {
          "annotationdefaults": {
           "arrowcolor": "#2a3f5f",
           "arrowhead": 0,
           "arrowwidth": 1
          },
          "autotypenumbers": "strict",
          "coloraxis": {
           "colorbar": {
            "outlinewidth": 0,
            "ticks": ""
           }
          },
          "colorscale": {
           "diverging": [
            [
             0,
             "#8e0152"
            ],
            [
             0.1,
             "#c51b7d"
            ],
            [
             0.2,
             "#de77ae"
            ],
            [
             0.3,
             "#f1b6da"
            ],
            [
             0.4,
             "#fde0ef"
            ],
            [
             0.5,
             "#f7f7f7"
            ],
            [
             0.6,
             "#e6f5d0"
            ],
            [
             0.7,
             "#b8e186"
            ],
            [
             0.8,
             "#7fbc41"
            ],
            [
             0.9,
             "#4d9221"
            ],
            [
             1,
             "#276419"
            ]
           ],
           "sequential": [
            [
             0,
             "#0d0887"
            ],
            [
             0.1111111111111111,
             "#46039f"
            ],
            [
             0.2222222222222222,
             "#7201a8"
            ],
            [
             0.3333333333333333,
             "#9c179e"
            ],
            [
             0.4444444444444444,
             "#bd3786"
            ],
            [
             0.5555555555555556,
             "#d8576b"
            ],
            [
             0.6666666666666666,
             "#ed7953"
            ],
            [
             0.7777777777777778,
             "#fb9f3a"
            ],
            [
             0.8888888888888888,
             "#fdca26"
            ],
            [
             1,
             "#f0f921"
            ]
           ],
           "sequentialminus": [
            [
             0,
             "#0d0887"
            ],
            [
             0.1111111111111111,
             "#46039f"
            ],
            [
             0.2222222222222222,
             "#7201a8"
            ],
            [
             0.3333333333333333,
             "#9c179e"
            ],
            [
             0.4444444444444444,
             "#bd3786"
            ],
            [
             0.5555555555555556,
             "#d8576b"
            ],
            [
             0.6666666666666666,
             "#ed7953"
            ],
            [
             0.7777777777777778,
             "#fb9f3a"
            ],
            [
             0.8888888888888888,
             "#fdca26"
            ],
            [
             1,
             "#f0f921"
            ]
           ]
          },
          "colorway": [
           "#636efa",
           "#EF553B",
           "#00cc96",
           "#ab63fa",
           "#FFA15A",
           "#19d3f3",
           "#FF6692",
           "#B6E880",
           "#FF97FF",
           "#FECB52"
          ],
          "font": {
           "color": "#2a3f5f"
          },
          "geo": {
           "bgcolor": "white",
           "lakecolor": "white",
           "landcolor": "#E5ECF6",
           "showlakes": true,
           "showland": true,
           "subunitcolor": "white"
          },
          "hoverlabel": {
           "align": "left"
          },
          "hovermode": "closest",
          "mapbox": {
           "style": "light"
          },
          "paper_bgcolor": "white",
          "plot_bgcolor": "#E5ECF6",
          "polar": {
           "angularaxis": {
            "gridcolor": "white",
            "linecolor": "white",
            "ticks": ""
           },
           "bgcolor": "#E5ECF6",
           "radialaxis": {
            "gridcolor": "white",
            "linecolor": "white",
            "ticks": ""
           }
          },
          "scene": {
           "xaxis": {
            "backgroundcolor": "#E5ECF6",
            "gridcolor": "white",
            "gridwidth": 2,
            "linecolor": "white",
            "showbackground": true,
            "ticks": "",
            "zerolinecolor": "white"
           },
           "yaxis": {
            "backgroundcolor": "#E5ECF6",
            "gridcolor": "white",
            "gridwidth": 2,
            "linecolor": "white",
            "showbackground": true,
            "ticks": "",
            "zerolinecolor": "white"
           },
           "zaxis": {
            "backgroundcolor": "#E5ECF6",
            "gridcolor": "white",
            "gridwidth": 2,
            "linecolor": "white",
            "showbackground": true,
            "ticks": "",
            "zerolinecolor": "white"
           }
          },
          "shapedefaults": {
           "line": {
            "color": "#2a3f5f"
           }
          },
          "ternary": {
           "aaxis": {
            "gridcolor": "white",
            "linecolor": "white",
            "ticks": ""
           },
           "baxis": {
            "gridcolor": "white",
            "linecolor": "white",
            "ticks": ""
           },
           "bgcolor": "#E5ECF6",
           "caxis": {
            "gridcolor": "white",
            "linecolor": "white",
            "ticks": ""
           }
          },
          "title": {
           "x": 0.05
          },
          "xaxis": {
           "automargin": true,
           "gridcolor": "white",
           "linecolor": "white",
           "ticks": "",
           "title": {
            "standoff": 15
           },
           "zerolinecolor": "white",
           "zerolinewidth": 2
          },
          "yaxis": {
           "automargin": true,
           "gridcolor": "white",
           "linecolor": "white",
           "ticks": "",
           "title": {
            "standoff": 15
           },
           "zerolinecolor": "white",
           "zerolinewidth": 2
          }
         }
        },
        "title": {
         "text": "$\\text{Radius v. Rest-Density }$",
         "x": 0.5
        },
        "width": 800,
        "xaxis": {
         "title": {
          "text": "$\\rho_0 / \\rho_*$"
         }
        },
        "yaxis": {
         "title": {
          "text": "$R$"
         }
        }
       }
      },
      "text/html": [
       "<div>                            <div id=\"350f403c-f028-47f9-8c9d-b85eda8676d3\" class=\"plotly-graph-div\" style=\"height:600px; width:800px;\"></div>            <script type=\"text/javascript\">                require([\"plotly\"], function(Plotly) {                    window.PLOTLYENV=window.PLOTLYENV || {};                                    if (document.getElementById(\"350f403c-f028-47f9-8c9d-b85eda8676d3\")) {                    Plotly.newPlot(                        \"350f403c-f028-47f9-8c9d-b85eda8676d3\",                        [{\"x\":[0.1,0.2,0.30000000000000004,0.4,0.5,0.6,0.7000000000000001,0.8,0.9,1.0,1.1,1.2000000000000002,1.3000000000000003,1.4000000000000001],\"y\":[1.8193286905654193e-18,1.5663847101910347e-18,1.4017397136249753e-18,1.2894951661685822e-18,1.2057802403182893e-18,1.139074449736113e-18,1.0907404752076673e-18,1.050890050231245e-18,1.0180609938453472e-18,9.903493483304615e-19,9.688483711545339e-19,9.510499783600553e-19,9.336926671820998e-19,9.210687741271917e-19],\"type\":\"scatter\"}],                        {\"template\":{\"data\":{\"bar\":[{\"error_x\":{\"color\":\"#2a3f5f\"},\"error_y\":{\"color\":\"#2a3f5f\"},\"marker\":{\"line\":{\"color\":\"#E5ECF6\",\"width\":0.5},\"pattern\":{\"fillmode\":\"overlay\",\"size\":10,\"solidity\":0.2}},\"type\":\"bar\"}],\"barpolar\":[{\"marker\":{\"line\":{\"color\":\"#E5ECF6\",\"width\":0.5},\"pattern\":{\"fillmode\":\"overlay\",\"size\":10,\"solidity\":0.2}},\"type\":\"barpolar\"}],\"carpet\":[{\"aaxis\":{\"endlinecolor\":\"#2a3f5f\",\"gridcolor\":\"white\",\"linecolor\":\"white\",\"minorgridcolor\":\"white\",\"startlinecolor\":\"#2a3f5f\"},\"baxis\":{\"endlinecolor\":\"#2a3f5f\",\"gridcolor\":\"white\",\"linecolor\":\"white\",\"minorgridcolor\":\"white\",\"startlinecolor\":\"#2a3f5f\"},\"type\":\"carpet\"}],\"choropleth\":[{\"colorbar\":{\"outlinewidth\":0,\"ticks\":\"\"},\"type\":\"choropleth\"}],\"contour\":[{\"colorbar\":{\"outlinewidth\":0,\"ticks\":\"\"},\"colorscale\":[[0.0,\"#0d0887\"],[0.1111111111111111,\"#46039f\"],[0.2222222222222222,\"#7201a8\"],[0.3333333333333333,\"#9c179e\"],[0.4444444444444444,\"#bd3786\"],[0.5555555555555556,\"#d8576b\"],[0.6666666666666666,\"#ed7953\"],[0.7777777777777778,\"#fb9f3a\"],[0.8888888888888888,\"#fdca26\"],[1.0,\"#f0f921\"]],\"type\":\"contour\"}],\"contourcarpet\":[{\"colorbar\":{\"outlinewidth\":0,\"ticks\":\"\"},\"type\":\"contourcarpet\"}],\"heatmap\":[{\"colorbar\":{\"outlinewidth\":0,\"ticks\":\"\"},\"colorscale\":[[0.0,\"#0d0887\"],[0.1111111111111111,\"#46039f\"],[0.2222222222222222,\"#7201a8\"],[0.3333333333333333,\"#9c179e\"],[0.4444444444444444,\"#bd3786\"],[0.5555555555555556,\"#d8576b\"],[0.6666666666666666,\"#ed7953\"],[0.7777777777777778,\"#fb9f3a\"],[0.8888888888888888,\"#fdca26\"],[1.0,\"#f0f921\"]],\"type\":\"heatmap\"}],\"heatmapgl\":[{\"colorbar\":{\"outlinewidth\":0,\"ticks\":\"\"},\"colorscale\":[[0.0,\"#0d0887\"],[0.1111111111111111,\"#46039f\"],[0.2222222222222222,\"#7201a8\"],[0.3333333333333333,\"#9c179e\"],[0.4444444444444444,\"#bd3786\"],[0.5555555555555556,\"#d8576b\"],[0.6666666666666666,\"#ed7953\"],[0.7777777777777778,\"#fb9f3a\"],[0.8888888888888888,\"#fdca26\"],[1.0,\"#f0f921\"]],\"type\":\"heatmapgl\"}],\"histogram\":[{\"marker\":{\"pattern\":{\"fillmode\":\"overlay\",\"size\":10,\"solidity\":0.2}},\"type\":\"histogram\"}],\"histogram2d\":[{\"colorbar\":{\"outlinewidth\":0,\"ticks\":\"\"},\"colorscale\":[[0.0,\"#0d0887\"],[0.1111111111111111,\"#46039f\"],[0.2222222222222222,\"#7201a8\"],[0.3333333333333333,\"#9c179e\"],[0.4444444444444444,\"#bd3786\"],[0.5555555555555556,\"#d8576b\"],[0.6666666666666666,\"#ed7953\"],[0.7777777777777778,\"#fb9f3a\"],[0.8888888888888888,\"#fdca26\"],[1.0,\"#f0f921\"]],\"type\":\"histogram2d\"}],\"histogram2dcontour\":[{\"colorbar\":{\"outlinewidth\":0,\"ticks\":\"\"},\"colorscale\":[[0.0,\"#0d0887\"],[0.1111111111111111,\"#46039f\"],[0.2222222222222222,\"#7201a8\"],[0.3333333333333333,\"#9c179e\"],[0.4444444444444444,\"#bd3786\"],[0.5555555555555556,\"#d8576b\"],[0.6666666666666666,\"#ed7953\"],[0.7777777777777778,\"#fb9f3a\"],[0.8888888888888888,\"#fdca26\"],[1.0,\"#f0f921\"]],\"type\":\"histogram2dcontour\"}],\"mesh3d\":[{\"colorbar\":{\"outlinewidth\":0,\"ticks\":\"\"},\"type\":\"mesh3d\"}],\"parcoords\":[{\"line\":{\"colorbar\":{\"outlinewidth\":0,\"ticks\":\"\"}},\"type\":\"parcoords\"}],\"pie\":[{\"automargin\":true,\"type\":\"pie\"}],\"scatter\":[{\"marker\":{\"colorbar\":{\"outlinewidth\":0,\"ticks\":\"\"}},\"type\":\"scatter\"}],\"scatter3d\":[{\"line\":{\"colorbar\":{\"outlinewidth\":0,\"ticks\":\"\"}},\"marker\":{\"colorbar\":{\"outlinewidth\":0,\"ticks\":\"\"}},\"type\":\"scatter3d\"}],\"scattercarpet\":[{\"marker\":{\"colorbar\":{\"outlinewidth\":0,\"ticks\":\"\"}},\"type\":\"scattercarpet\"}],\"scattergeo\":[{\"marker\":{\"colorbar\":{\"outlinewidth\":0,\"ticks\":\"\"}},\"type\":\"scattergeo\"}],\"scattergl\":[{\"marker\":{\"colorbar\":{\"outlinewidth\":0,\"ticks\":\"\"}},\"type\":\"scattergl\"}],\"scattermapbox\":[{\"marker\":{\"colorbar\":{\"outlinewidth\":0,\"ticks\":\"\"}},\"type\":\"scattermapbox\"}],\"scatterpolar\":[{\"marker\":{\"colorbar\":{\"outlinewidth\":0,\"ticks\":\"\"}},\"type\":\"scatterpolar\"}],\"scatterpolargl\":[{\"marker\":{\"colorbar\":{\"outlinewidth\":0,\"ticks\":\"\"}},\"type\":\"scatterpolargl\"}],\"scatterternary\":[{\"marker\":{\"colorbar\":{\"outlinewidth\":0,\"ticks\":\"\"}},\"type\":\"scatterternary\"}],\"surface\":[{\"colorbar\":{\"outlinewidth\":0,\"ticks\":\"\"},\"colorscale\":[[0.0,\"#0d0887\"],[0.1111111111111111,\"#46039f\"],[0.2222222222222222,\"#7201a8\"],[0.3333333333333333,\"#9c179e\"],[0.4444444444444444,\"#bd3786\"],[0.5555555555555556,\"#d8576b\"],[0.6666666666666666,\"#ed7953\"],[0.7777777777777778,\"#fb9f3a\"],[0.8888888888888888,\"#fdca26\"],[1.0,\"#f0f921\"]],\"type\":\"surface\"}],\"table\":[{\"cells\":{\"fill\":{\"color\":\"#EBF0F8\"},\"line\":{\"color\":\"white\"}},\"header\":{\"fill\":{\"color\":\"#C8D4E3\"},\"line\":{\"color\":\"white\"}},\"type\":\"table\"}]},\"layout\":{\"annotationdefaults\":{\"arrowcolor\":\"#2a3f5f\",\"arrowhead\":0,\"arrowwidth\":1},\"autotypenumbers\":\"strict\",\"coloraxis\":{\"colorbar\":{\"outlinewidth\":0,\"ticks\":\"\"}},\"colorscale\":{\"diverging\":[[0,\"#8e0152\"],[0.1,\"#c51b7d\"],[0.2,\"#de77ae\"],[0.3,\"#f1b6da\"],[0.4,\"#fde0ef\"],[0.5,\"#f7f7f7\"],[0.6,\"#e6f5d0\"],[0.7,\"#b8e186\"],[0.8,\"#7fbc41\"],[0.9,\"#4d9221\"],[1,\"#276419\"]],\"sequential\":[[0.0,\"#0d0887\"],[0.1111111111111111,\"#46039f\"],[0.2222222222222222,\"#7201a8\"],[0.3333333333333333,\"#9c179e\"],[0.4444444444444444,\"#bd3786\"],[0.5555555555555556,\"#d8576b\"],[0.6666666666666666,\"#ed7953\"],[0.7777777777777778,\"#fb9f3a\"],[0.8888888888888888,\"#fdca26\"],[1.0,\"#f0f921\"]],\"sequentialminus\":[[0.0,\"#0d0887\"],[0.1111111111111111,\"#46039f\"],[0.2222222222222222,\"#7201a8\"],[0.3333333333333333,\"#9c179e\"],[0.4444444444444444,\"#bd3786\"],[0.5555555555555556,\"#d8576b\"],[0.6666666666666666,\"#ed7953\"],[0.7777777777777778,\"#fb9f3a\"],[0.8888888888888888,\"#fdca26\"],[1.0,\"#f0f921\"]]},\"colorway\":[\"#636efa\",\"#EF553B\",\"#00cc96\",\"#ab63fa\",\"#FFA15A\",\"#19d3f3\",\"#FF6692\",\"#B6E880\",\"#FF97FF\",\"#FECB52\"],\"font\":{\"color\":\"#2a3f5f\"},\"geo\":{\"bgcolor\":\"white\",\"lakecolor\":\"white\",\"landcolor\":\"#E5ECF6\",\"showlakes\":true,\"showland\":true,\"subunitcolor\":\"white\"},\"hoverlabel\":{\"align\":\"left\"},\"hovermode\":\"closest\",\"mapbox\":{\"style\":\"light\"},\"paper_bgcolor\":\"white\",\"plot_bgcolor\":\"#E5ECF6\",\"polar\":{\"angularaxis\":{\"gridcolor\":\"white\",\"linecolor\":\"white\",\"ticks\":\"\"},\"bgcolor\":\"#E5ECF6\",\"radialaxis\":{\"gridcolor\":\"white\",\"linecolor\":\"white\",\"ticks\":\"\"}},\"scene\":{\"xaxis\":{\"backgroundcolor\":\"#E5ECF6\",\"gridcolor\":\"white\",\"gridwidth\":2,\"linecolor\":\"white\",\"showbackground\":true,\"ticks\":\"\",\"zerolinecolor\":\"white\"},\"yaxis\":{\"backgroundcolor\":\"#E5ECF6\",\"gridcolor\":\"white\",\"gridwidth\":2,\"linecolor\":\"white\",\"showbackground\":true,\"ticks\":\"\",\"zerolinecolor\":\"white\"},\"zaxis\":{\"backgroundcolor\":\"#E5ECF6\",\"gridcolor\":\"white\",\"gridwidth\":2,\"linecolor\":\"white\",\"showbackground\":true,\"ticks\":\"\",\"zerolinecolor\":\"white\"}},\"shapedefaults\":{\"line\":{\"color\":\"#2a3f5f\"}},\"ternary\":{\"aaxis\":{\"gridcolor\":\"white\",\"linecolor\":\"white\",\"ticks\":\"\"},\"baxis\":{\"gridcolor\":\"white\",\"linecolor\":\"white\",\"ticks\":\"\"},\"bgcolor\":\"#E5ECF6\",\"caxis\":{\"gridcolor\":\"white\",\"linecolor\":\"white\",\"ticks\":\"\"}},\"title\":{\"x\":0.05},\"xaxis\":{\"automargin\":true,\"gridcolor\":\"white\",\"linecolor\":\"white\",\"ticks\":\"\",\"title\":{\"standoff\":15},\"zerolinecolor\":\"white\",\"zerolinewidth\":2},\"yaxis\":{\"automargin\":true,\"gridcolor\":\"white\",\"linecolor\":\"white\",\"ticks\":\"\",\"title\":{\"standoff\":15},\"zerolinecolor\":\"white\",\"zerolinewidth\":2}}},\"title\":{\"text\":\"$\\\\text{Radius v. Rest-Density }$\",\"x\":0.5},\"width\":800,\"height\":600,\"xaxis\":{\"title\":{\"text\":\"$\\\\rho_0 / \\\\rho_*$\"}},\"yaxis\":{\"title\":{\"text\":\"$R$\"}}},                        {\"responsive\": true}                    ).then(function(){\n",
       "                            \n",
       "var gd = document.getElementById('350f403c-f028-47f9-8c9d-b85eda8676d3');\n",
       "var x = new MutationObserver(function (mutations, observer) {{\n",
       "        var display = window.getComputedStyle(gd).display;\n",
       "        if (!display || display === 'none') {{\n",
       "            console.log([gd, 'removed!']);\n",
       "            Plotly.purge(gd);\n",
       "            observer.disconnect();\n",
       "        }}\n",
       "}});\n",
       "\n",
       "// Listen for the removal of the full notebook cells\n",
       "var notebookContainer = gd.closest('#notebook-container');\n",
       "if (notebookContainer) {{\n",
       "    x.observe(notebookContainer, {childList: true});\n",
       "}}\n",
       "\n",
       "// Listen for the clearing of the current output cell\n",
       "var outputEl = gd.closest('.output');\n",
       "if (outputEl) {{\n",
       "    x.observe(outputEl, {childList: true});\n",
       "}}\n",
       "\n",
       "                        })                };                });            </script>        </div>"
      ]
     },
     "metadata": {},
     "output_type": "display_data"
    }
   ],
   "source": [
    "fig = go.Figure()\n",
    "\n",
    "fig.add_trace(go.Scatter(x=seq.densities_rest, \n",
    "                         y=tov.scale_radius(seq.surface_radius, n, K)))\n",
    "fig.update_layout(\n",
    "#     yaxis_range=[-5,5],\n",
    "#     xaxis_range=[0,3],\n",
    "                  width=800,\n",
    "                  height=600,\n",
    "#                   showlegend=True,\n",
    "                  title_text=r'$\\text{Radius v. Rest-Density }$', \n",
    "                  title_x=0.5,\n",
    "                  xaxis_title=r'$\\rho_0 / \\rho_*$',\n",
    "                  yaxis_title=r'$R$')\n",
    "fig.show()"
   ]
  },
  {
   "cell_type": "code",
   "execution_count": 20,
   "id": "36af3dc1",
   "metadata": {
    "ExecuteTime": {
     "end_time": "2022-02-18T23:49:14.774899Z",
     "start_time": "2022-02-18T23:49:14.771500Z"
    }
   },
   "outputs": [
    {
     "data": {
      "text/latex": [
       "$3.3214872 \\times 10^{-36} \\; \\mathrm{\\frac{s^{2}\\,m}{kg}}$"
      ],
      "text/plain": [
       "<Quantity 3.32148722e-36 m s2 / kg>"
      ]
     },
     "execution_count": 20,
     "metadata": {},
     "output_type": "execute_result"
    }
   ],
   "source": [
    "K"
   ]
  },
  {
   "cell_type": "code",
   "execution_count": 30,
   "id": "2118f926",
   "metadata": {
    "ExecuteTime": {
     "end_time": "2022-02-19T00:29:43.732910Z",
     "start_time": "2022-02-19T00:29:43.730766Z"
    }
   },
   "outputs": [],
   "source": [
    "from scipy import optimize"
   ]
  },
  {
   "cell_type": "code",
   "execution_count": 47,
   "id": "e6e24a22",
   "metadata": {
    "ExecuteTime": {
     "end_time": "2022-02-19T00:35:09.199239Z",
     "start_time": "2022-02-19T00:35:09.196409Z"
    }
   },
   "outputs": [],
   "source": [
    "def polytropic_density_rest(density, index, gas_const):\n",
    "    def func(density_rest):\n",
    "        return density - tov.polytropic_density(density_rest=density_rest, \n",
    "                                                index=index, \n",
    "                                                gas_const=gas_const)\n",
    "    return optimize.fsolve(func, density)[0]"
   ]
  },
  {
   "cell_type": "code",
   "execution_count": 48,
   "id": "8533238b",
   "metadata": {
    "ExecuteTime": {
     "end_time": "2022-02-19T00:35:09.511915Z",
     "start_time": "2022-02-19T00:35:09.508885Z"
    }
   },
   "outputs": [
    {
     "data": {
      "text/plain": [
       "7.526748814360753e+34"
      ]
     },
     "execution_count": 48,
     "metadata": {},
     "output_type": "execute_result"
    }
   ],
   "source": [
    "mid_cent_density.value"
   ]
  },
  {
   "cell_type": "code",
   "execution_count": 51,
   "id": "691c3c52",
   "metadata": {
    "ExecuteTime": {
     "end_time": "2022-02-19T00:35:40.511393Z",
     "start_time": "2022-02-19T00:35:40.507933Z"
    }
   },
   "outputs": [
    {
     "data": {
      "text/plain": [
       "7.526748814360753e+34"
      ]
     },
     "execution_count": 51,
     "metadata": {},
     "output_type": "execute_result"
    }
   ],
   "source": [
    "tov.polytropic_density(density_rest=polytropic_density_rest(mid_cent_density.value, n, K_bar),\n",
    "                       index=n, gas_const=K_bar)"
   ]
  },
  {
   "cell_type": "code",
   "execution_count": null,
   "id": "bc158ecc",
   "metadata": {},
   "outputs": [],
   "source": []
  },
  {
   "cell_type": "code",
   "execution_count": null,
   "id": "d10ab3ab",
   "metadata": {},
   "outputs": [],
   "source": []
  },
  {
   "cell_type": "code",
   "execution_count": null,
   "id": "f353399b",
   "metadata": {},
   "outputs": [],
   "source": []
  },
  {
   "cell_type": "code",
   "execution_count": null,
   "id": "ba73531c",
   "metadata": {},
   "outputs": [],
   "source": []
  },
  {
   "cell_type": "code",
   "execution_count": null,
   "id": "068d8ab0",
   "metadata": {},
   "outputs": [],
   "source": []
  },
  {
   "cell_type": "code",
   "execution_count": null,
   "id": "b5f50108",
   "metadata": {},
   "outputs": [],
   "source": []
  }
 ],
 "metadata": {
  "kernelspec": {
   "display_name": "Python 3 (ipykernel)",
   "language": "python",
   "name": "python3"
  },
  "language_info": {
   "codemirror_mode": {
    "name": "ipython",
    "version": 3
   },
   "file_extension": ".py",
   "mimetype": "text/x-python",
   "name": "python",
   "nbconvert_exporter": "python",
   "pygments_lexer": "ipython3",
   "version": "3.8.12"
  }
 },
 "nbformat": 4,
 "nbformat_minor": 5
}

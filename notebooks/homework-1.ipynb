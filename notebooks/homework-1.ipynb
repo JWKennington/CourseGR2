{
 "cells": [
  {
   "cell_type": "markdown",
   "id": "1fb95b45",
   "metadata": {},
   "source": [
    "# Homework 1"
   ]
  },
  {
   "cell_type": "markdown",
   "id": "614d7eaa",
   "metadata": {},
   "source": [
    "## Imports"
   ]
  },
  {
   "cell_type": "code",
   "execution_count": 1,
   "id": "dcb4a4e9",
   "metadata": {
    "ExecuteTime": {
     "end_time": "2022-02-18T00:40:10.337963Z",
     "start_time": "2022-02-18T00:40:10.327017Z"
    }
   },
   "outputs": [],
   "source": [
    "import nbtools\n",
    "nbtools.setup_nb()"
   ]
  },
  {
   "cell_type": "code",
   "execution_count": 2,
   "id": "4a2c8904",
   "metadata": {
    "ExecuteTime": {
     "end_time": "2022-02-18T00:40:11.557813Z",
     "start_time": "2022-02-18T00:40:10.454755Z"
    }
   },
   "outputs": [],
   "source": [
    "from astropy import units, constants\n",
    "import numpy\n",
    "import plotly\n",
    "\n",
    "# Homework code\n",
    "from gr2 import tov"
   ]
  },
  {
   "cell_type": "markdown",
   "id": "19ccc6b6",
   "metadata": {},
   "source": [
    "# Problem C"
   ]
  },
  {
   "cell_type": "markdown",
   "id": "ecd7b272",
   "metadata": {},
   "source": [
    "Common scaling constant $\\rho_*$"
   ]
  },
  {
   "cell_type": "code",
   "execution_count": 3,
   "id": "df90799b",
   "metadata": {
    "ExecuteTime": {
     "end_time": "2022-02-18T00:40:42.101151Z",
     "start_time": "2022-02-18T00:40:42.095509Z"
    }
   },
   "outputs": [
    {
     "data": {
      "text/latex": [
       "$75706.211 \\; \\mathrm{\\frac{1}{m\\,s^{2}}}$"
      ],
      "text/plain": [
       "<Quantity 75706.2105281 1 / (m s2)>"
      ]
     },
     "execution_count": 3,
     "metadata": {},
     "output_type": "execute_result"
    }
   ],
   "source": [
    "rho_star = constants.m_n * constants.c ** 2 / ((1.0 * units.fm).to(units.m) ** 3)\n",
    "rho_star / constants.M_sun"
   ]
  },
  {
   "cell_type": "markdown",
   "id": "24b42fc9",
   "metadata": {},
   "source": [
    "## Problem C.1"
   ]
  },
  {
   "cell_type": "markdown",
   "id": "556bcffa",
   "metadata": {},
   "source": [
    "### Establish EoS"
   ]
  },
  {
   "cell_type": "code",
   "execution_count": 4,
   "id": "db6564a1",
   "metadata": {
    "ExecuteTime": {
     "end_time": "2022-02-18T00:40:46.073345Z",
     "start_time": "2022-02-18T00:40:46.070901Z"
    }
   },
   "outputs": [],
   "source": [
    "gamma = 2.0\n",
    "alpha = 0.5\n",
    "\n",
    "n = 1 / (gamma - 1)\n",
    "K_bar = 1.0 # used for simulation\n",
    "K = alpha / (rho_star ** (gamma - 1)) # used for scaling results"
   ]
  },
  {
   "cell_type": "markdown",
   "id": "ec988ae4",
   "metadata": {},
   "source": [
    "### Compute TOV solutions for various rest densities"
   ]
  },
  {
   "cell_type": "markdown",
   "id": "83e9636c",
   "metadata": {},
   "source": [
    "Set densities"
   ]
  },
  {
   "cell_type": "code",
   "execution_count": 5,
   "id": "8ec01cbd",
   "metadata": {
    "ExecuteTime": {
     "end_time": "2022-02-18T00:40:47.057188Z",
     "start_time": "2022-02-18T00:40:47.054964Z"
    }
   },
   "outputs": [],
   "source": [
    "mid_cent_density = 0.5 * rho_star\n",
    "mid_cent_density_bar = (K ** n) * mid_cent_density"
   ]
  },
  {
   "cell_type": "code",
   "execution_count": 6,
   "id": "606b62d0",
   "metadata": {
    "ExecuteTime": {
     "end_time": "2022-02-18T00:40:47.195079Z",
     "start_time": "2022-02-18T00:40:47.191436Z"
    }
   },
   "outputs": [
    {
     "data": {
      "text/latex": [
       "$0.25 \\; \\mathrm{}$"
      ],
      "text/plain": [
       "<Quantity 0.25>"
      ]
     },
     "execution_count": 6,
     "metadata": {},
     "output_type": "execute_result"
    }
   ],
   "source": [
    "mid_cent_density_bar"
   ]
  },
  {
   "cell_type": "code",
   "execution_count": 7,
   "id": "a8a2fc7b",
   "metadata": {
    "ExecuteTime": {
     "end_time": "2022-02-18T00:40:49.633738Z",
     "start_time": "2022-02-18T00:40:49.630979Z"
    }
   },
   "outputs": [],
   "source": [
    "densities_rest = numpy.arange(0.1, 1.5, 0.1)\n",
    "pressures_cent = tov.polytropic_pressure(densities_rest, index=n, gas_const=K_bar)\n",
    "densities_cent = tov.polytropic_density(pressure=pressures_cent, index=n, gas_constant=K_bar)\n",
    "\n",
    "d_rad = 0.001\n",
    "rad_max = 2.0\n",
    "solver = tov.integrate_manual # method used by Prof. Radice in NR"
   ]
  },
  {
   "cell_type": "markdown",
   "id": "e04bd3fc",
   "metadata": {},
   "source": [
    "Compute solutions"
   ]
  },
  {
   "cell_type": "code",
   "execution_count": 8,
   "id": "141087a1",
   "metadata": {
    "ExecuteTime": {
     "end_time": "2022-02-18T00:40:50.560764Z",
     "start_time": "2022-02-18T00:40:50.479093Z"
    }
   },
   "outputs": [],
   "source": [
    "seq = tov.SolutionSequence.from_densities(densities_rest=densities_rest, d_rad=d_rad, \n",
    "                                          poly_index=n, poly_gas_const=K_bar, \n",
    "                                          rad_max=rad_max, solver=solver)"
   ]
  },
  {
   "cell_type": "code",
   "execution_count": 10,
   "id": "68fece1b",
   "metadata": {
    "ExecuteTime": {
     "end_time": "2022-02-18T00:41:21.611558Z",
     "start_time": "2022-02-18T00:41:21.607856Z"
    }
   },
   "outputs": [
    {
     "data": {
      "text/plain": [
       "array([0.11, 0.24, 0.39, 0.56, 0.75, 0.96, 1.19, 1.44, 1.71, 2.  , 2.31,\n",
       "       2.64, 2.99, 3.36])"
      ]
     },
     "execution_count": 10,
     "metadata": {},
     "output_type": "execute_result"
    }
   ],
   "source": [
    "_pressures_cent = tov.polytropic_pressure(seq.densities_rest, index=n, gas_const=K_bar)\n",
    "_densities_cent = tov.polytropic_density(pressure=pressures_cent, index=n, gas_constant=K_bar)\n",
    "_densities_cent"
   ]
  },
  {
   "cell_type": "code",
   "execution_count": 12,
   "id": "fb979d55",
   "metadata": {
    "ExecuteTime": {
     "end_time": "2022-02-18T00:42:01.162980Z",
     "start_time": "2022-02-18T00:42:01.159614Z"
    }
   },
   "outputs": [
    {
     "data": {
      "text/plain": [
       "array([0.47914199, 0.6214465 , 0.73061436, 0.82425706, 0.9085603 ,\n",
       "       0.98648483, 1.0596985 , 1.12924323, 1.19581878, 1.25992105,\n",
       "       1.32191641, 1.38208465, 1.44064529, 1.49777448])"
      ]
     },
     "execution_count": 12,
     "metadata": {},
     "output_type": "execute_result"
    }
   ],
   "source": [
    "(_densities_cent / (n * K_bar)) ** (n / (2 * n + 1))"
   ]
  },
  {
   "cell_type": "code",
   "execution_count": 13,
   "id": "b31c8c55",
   "metadata": {
    "ExecuteTime": {
     "end_time": "2022-02-18T00:42:25.706690Z",
     "start_time": "2022-02-18T00:42:25.703549Z"
    }
   },
   "outputs": [
    {
     "data": {
      "text/plain": [
       "array([0.1, 0.2, 0.3, 0.4, 0.5, 0.6, 0.7, 0.8, 0.9, 1. , 1.1, 1.2, 1.3,\n",
       "       1.4])"
      ]
     },
     "execution_count": 13,
     "metadata": {},
     "output_type": "execute_result"
    }
   ],
   "source": [
    "seq.densities_rest"
   ]
  },
  {
   "cell_type": "code",
   "execution_count": null,
   "id": "b5f50108",
   "metadata": {},
   "outputs": [],
   "source": []
  }
 ],
 "metadata": {
  "kernelspec": {
   "display_name": "Python 3 (ipykernel)",
   "language": "python",
   "name": "python3"
  },
  "language_info": {
   "codemirror_mode": {
    "name": "ipython",
    "version": 3
   },
   "file_extension": ".py",
   "mimetype": "text/x-python",
   "name": "python",
   "nbconvert_exporter": "python",
   "pygments_lexer": "ipython3",
   "version": "3.8.12"
  }
 },
 "nbformat": 4,
 "nbformat_minor": 5
}

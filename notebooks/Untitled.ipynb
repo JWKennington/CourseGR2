{
 "cells": [
  {
   "cell_type": "markdown",
   "id": "1fb95b45",
   "metadata": {},
   "source": [
    "# Homework 1"
   ]
  },
  {
   "cell_type": "markdown",
   "id": "614d7eaa",
   "metadata": {},
   "source": [
    "## Imports"
   ]
  },
  {
   "cell_type": "code",
   "execution_count": 2,
   "id": "4a2c8904",
   "metadata": {
    "ExecuteTime": {
     "end_time": "2022-02-13T07:32:05.692123Z",
     "start_time": "2022-02-13T07:32:05.690278Z"
    }
   },
   "outputs": [],
   "source": [
    "from astropy import units, constants"
   ]
  },
  {
   "cell_type": "markdown",
   "id": "19ccc6b6",
   "metadata": {},
   "source": [
    "# Problem C"
   ]
  },
  {
   "cell_type": "code",
   "execution_count": 6,
   "id": "141087a1",
   "metadata": {
    "ExecuteTime": {
     "end_time": "2022-02-13T07:33:26.910367Z",
     "start_time": "2022-02-13T07:33:26.906272Z"
    }
   },
   "outputs": [
    {
     "data": {
      "text/latex": [
       "$1.5053498 \\times 10^{35} \\; \\mathrm{\\frac{kg}{m\\,s^{2}}}$"
      ],
      "text/plain": [
       "<Quantity 1.50534976e+35 kg / (m s2)>"
      ]
     },
     "execution_count": 6,
     "metadata": {},
     "output_type": "execute_result"
    }
   ],
   "source": [
    "rho_star = constants.m_n * constants.c ** 2 / ((1.0 * units.fm).to(units.m) ** 3)\n",
    "rho_star / constants.M_sun"
   ]
  },
  {
   "cell_type": "code",
   "execution_count": 7,
   "id": "a8c80886",
   "metadata": {
    "ExecuteTime": {
     "end_time": "2022-02-13T07:33:42.965504Z",
     "start_time": "2022-02-13T07:33:42.962218Z"
    }
   },
   "outputs": [
    {
     "data": {
      "text/latex": [
       "$75706.211 \\; \\mathrm{\\frac{1}{m\\,s^{2}}}$"
      ],
      "text/plain": [
       "<Quantity 75706.2105281 1 / (m s2)>"
      ]
     },
     "execution_count": 7,
     "metadata": {},
     "output_type": "execute_result"
    }
   ],
   "source": []
  },
  {
   "cell_type": "code",
   "execution_count": null,
   "id": "fcc6e527",
   "metadata": {},
   "outputs": [],
   "source": [
    "K = "
   ]
  },
  {
   "cell_type": "code",
   "execution_count": null,
   "id": "68fece1b",
   "metadata": {},
   "outputs": [],
   "source": []
  },
  {
   "cell_type": "code",
   "execution_count": null,
   "id": "fb979d55",
   "metadata": {},
   "outputs": [],
   "source": []
  },
  {
   "cell_type": "code",
   "execution_count": null,
   "id": "b31c8c55",
   "metadata": {},
   "outputs": [],
   "source": []
  },
  {
   "cell_type": "code",
   "execution_count": null,
   "id": "b5f50108",
   "metadata": {},
   "outputs": [],
   "source": []
  }
 ],
 "metadata": {
  "kernelspec": {
   "display_name": "Python 3 (ipykernel)",
   "language": "python",
   "name": "python3"
  },
  "language_info": {
   "codemirror_mode": {
    "name": "ipython",
    "version": 3
   },
   "file_extension": ".py",
   "mimetype": "text/x-python",
   "name": "python",
   "nbconvert_exporter": "python",
   "pygments_lexer": "ipython3",
   "version": "3.8.12"
  }
 },
 "nbformat": 4,
 "nbformat_minor": 5
}
